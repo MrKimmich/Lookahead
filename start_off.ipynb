{
 "cells": [
  {
   "cell_type": "code",
   "execution_count": 107,
   "metadata": {},
   "outputs": [
    {
     "name": "stdout",
     "output_type": "stream",
     "text": [
      "libc++abi.dylib: terminating with uncaught exception of type std::runtime_error: Couldn't close file\r\n"
     ]
    }
   ],
   "source": [
    "!ls"
   ]
  },
  {
   "cell_type": "code",
   "execution_count": 75,
   "metadata": {},
   "outputs": [],
   "source": [
    "from fastai.vision import *\n",
    "from torch.optim import Optimizer\n",
    "from Optimizers.lookahead import *\n",
    "from torchcontrib.optim import SWA\n",
    "import wandb\n",
    "from wandb.fastai import WandbCallback"
   ]
  },
  {
   "cell_type": "code",
   "execution_count": 65,
   "metadata": {},
   "outputs": [],
   "source": [
    "PROJECT_PATH = Path.cwd()\n",
    "MODELS = PROJECT_PATH/'models'\n",
    "\n",
    "MODELS.mkdir(exist_ok=True)"
   ]
  },
  {
   "cell_type": "code",
   "execution_count": 105,
   "metadata": {},
   "outputs": [],
   "source": [
    "def print_all(*args):\n",
    "    for i in args:\n",
    "        print(i)"
   ]
  },
  {
   "cell_type": "code",
   "execution_count": 66,
   "metadata": {},
   "outputs": [],
   "source": [
    "def get_mnist_data(bs=16):\n",
    "    PATH = Path(\"/Users/akash/.fastai/data/mnist_png\")\n",
    "    data = (ImageList.from_folder(path=PATH)\n",
    "            .split_by_folder(train='training', valid='testing')\n",
    "            .label_from_folder()\n",
    "            .databunch(bs=bs))\n",
    "    return data"
   ]
  },
  {
   "cell_type": "code",
   "execution_count": 67,
   "metadata": {},
   "outputs": [],
   "source": [
    "def get_cifar10_data(bs=16):\n",
    "    pad4 = RandTransform(tfm=pad, kwargs={'padding':4, 'mode':'zeros'}, is_random=False, p=1.0, use_on_y=False)\n",
    "    crop32 = RandTransform(tfm=crop, kwargs={'row_pct':(0.4,0.6), 'col_pct':(0.4,0.6), 'size':32}, p=1.0, use_on_y=False)\n",
    "    tfms = [pad4, crop32]\n",
    "    PATH = Path(\"/Users/akash/.fastai/data/cifar10\")\n",
    "    data = (ImageList.from_folder(path=PATH)\n",
    "            .split_by_folder(train='train', valid='test')\n",
    "            .label_from_folder()\n",
    "            .transform((tfms, []))\n",
    "            .databunch(bs=bs))\n",
    "    return data"
   ]
  },
  {
   "cell_type": "code",
   "execution_count": 68,
   "metadata": {},
   "outputs": [],
   "source": [
    "data = get_mnist_data()\n",
    "data.show_batch()\n",
    "\n",
    "def get_simple_cnn(pretrained=False):\n",
    "    return simple_cnn([3, 4, 2])\n",
    "\n",
    "learn = cnn_learner(data=data, base_arch=get_simple_cnn, opt_func=lookahead.LookaheadSGD)\n",
    "learn.metrics.append(accuracy)\n",
    "learn.fit(1, 0.003)\n",
    "learn.save(MODELS/'mnist_sample.pkl')\n",
    "learn.load(MODELS/'mnist_sample.pkl')"
   ]
  },
  {
   "cell_type": "code",
   "execution_count": 54,
   "metadata": {},
   "outputs": [],
   "source": [
    "wandbRecorder = partial(WandbCallback, input_type='images')"
   ]
  },
  {
   "cell_type": "code",
   "execution_count": 110,
   "metadata": {},
   "outputs": [],
   "source": [
    "optimizers = [LookaheadSGD, optim.SGD, optim.AdamW, optim.RMSprop, LookaheadAdamW] # Along with SWA which needs to be separately dealt with\n",
    "experiment_names = {LookaheadSGD:'Lookahead_SGD', optim.SGD:'SGD', optim.AdamW:'AdamW', \n",
    "                        optim.RMSprop:'RMSProp', LookaheadAdamW:'LookaheadAdamW'}\n",
    "\n",
    "lookahead_sgd_params = dict(alpha=0.5, k=5) # lr = 0.1\n",
    "sgd_params = dict(momentum=0.9, weight_decay=0.001) # lr = 0.05\n",
    "adamW_params = dict(weight_decay=0.3) # lr = 0.001\n",
    "rmsprop_params = dict(weight_decay=0.001) # lr = 0.01\n",
    "lookahead_adamw_params = dict(weight_decay=0.3, k=5, alpha=0.5) # lr = 0.1\n",
    "\n",
    "params_list = [lookahead_sgd_params, sgd_params, adamW_params, rmsprop_params, lookahead_adamw_params]\n",
    "\n",
    "params_dict = {LookaheadSGD:lookahead_sgd_params, optim.SGD:sgd_params, optim.AdamW:adamW_params,\n",
    "              optim.RMSprop:rmsprop_params, LookaheadAdamW:lookahead_adamw_params}\n",
    "lr_dict = {LookaheadSGD:0.1, optim.SGD:0.05, optim.AdamW:0.001,\n",
    "              optim.RMSprop:0.01, LookaheadAdamW:0.1}\n",
    "epochs_dict = {LookaheadSGD:20, optim.SGD:20, optim.AdamW:20,\n",
    "              optim.RMSprop:20, LookaheadAdamW:20}"
   ]
  },
  {
   "cell_type": "code",
   "execution_count": 94,
   "metadata": {},
   "outputs": [],
   "source": [
    "def fit_and_record(epochs=None, lr=None, opt_func=lookahead.LookaheadSGD, experiment_name=None, \n",
    "                   data=None, base_arch=models.resnet18, pretrained=False):\n",
    "    np.random.seed(42)\n",
    "    # Initialize Training\n",
    "    if experiment_name is None:\n",
    "        experiment_name = experiment_names[opt_func]\n",
    "    if data is None:\n",
    "        data = get_cifar10_data(128)\n",
    "    if epochs is None:\n",
    "        epochs = epochs_dict[opt_func]\n",
    "    if lr is None:\n",
    "        lr = lr_dict[opt_func]\n",
    "    # Setting optimizer parameters correctly\n",
    "    opt_func = partial(opt_func, **params_dict[opt_func])\n",
    "    \n",
    "    print_all(data, opt_func, epochs, lr, experiment_name, base_arch)\n",
    "    \n",
    "    wandb.init(project='lookahead', name=experiment_name)\n",
    "    learn = cnn_learner(data=data, base_arch=base_arch, opt_func=opt_func, pretrained=pretrained, callback_fns=Wand)\n",
    "    learn.metrics.append(accuracy)\n",
    "    learn.fit(epochs, lr)\n",
    "    learn.save(MODELS/experiment_name)"
   ]
  },
  {
   "cell_type": "code",
   "execution_count": null,
   "metadata": {},
   "outputs": [],
   "source": [
    "for optimizer in optimizers:\n",
    "    fit_and_record(opt_func=optimizer)"
   ]
  }
 ],
 "metadata": {
  "kernelspec": {
   "display_name": "Python 3",
   "language": "python",
   "name": "python3"
  },
  "language_info": {
   "codemirror_mode": {
    "name": "ipython",
    "version": 3
   },
   "file_extension": ".py",
   "mimetype": "text/x-python",
   "name": "python",
   "nbconvert_exporter": "python",
   "pygments_lexer": "ipython3",
   "version": "3.7.4"
  },
  "toc": {
   "base_numbering": 1,
   "nav_menu": {},
   "number_sections": true,
   "sideBar": true,
   "skip_h1_title": false,
   "title_cell": "Table of Contents",
   "title_sidebar": "Contents",
   "toc_cell": false,
   "toc_position": {},
   "toc_section_display": true,
   "toc_window_display": false
  },
  "varInspector": {
   "cols": {
    "lenName": 16,
    "lenType": 16,
    "lenVar": 40
   },
   "kernels_config": {
    "python": {
     "delete_cmd_postfix": "",
     "delete_cmd_prefix": "del ",
     "library": "var_list.py",
     "varRefreshCmd": "print(var_dic_list())"
    },
    "r": {
     "delete_cmd_postfix": ") ",
     "delete_cmd_prefix": "rm(",
     "library": "var_list.r",
     "varRefreshCmd": "cat(var_dic_list()) "
    }
   },
   "types_to_exclude": [
    "module",
    "function",
    "builtin_function_or_method",
    "instance",
    "_Feature"
   ],
   "window_display": false
  }
 },
 "nbformat": 4,
 "nbformat_minor": 2
}
